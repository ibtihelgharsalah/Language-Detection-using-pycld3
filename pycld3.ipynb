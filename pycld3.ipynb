{
  "nbformat": 4,
  "nbformat_minor": 0,
  "metadata": {
    "colab": {
      "provenance": [],
      "include_colab_link": true
    },
    "kernelspec": {
      "name": "python3",
      "display_name": "Python 3"
    },
    "language_info": {
      "name": "python"
    }
  },
  "cells": [
    {
      "cell_type": "markdown",
      "metadata": {
        "id": "view-in-github",
        "colab_type": "text"
      },
      "source": [
        "<a href=\"https://colab.research.google.com/github/ibtihelgharsalah/Language-Detection-using-pycld3/blob/main/pycld3.ipynb\" target=\"_parent\"><img src=\"https://colab.research.google.com/assets/colab-badge.svg\" alt=\"Open In Colab\"/></a>"
      ]
    },
    {
      "cell_type": "code",
      "source": [
        "pip install pycld3"
      ],
      "metadata": {
        "colab": {
          "base_uri": "https://localhost:8080/"
        },
        "id": "xroEJ0ppIMVe",
        "outputId": "3e15106f-9c67-473b-9047-1b527525aa4c"
      },
      "execution_count": null,
      "outputs": [
        {
          "output_type": "stream",
          "name": "stdout",
          "text": [
            "Looking in indexes: https://pypi.org/simple, https://us-python.pkg.dev/colab-wheels/public/simple/\n",
            "Collecting pycld3\n",
            "  Downloading pycld3-0.22-cp37-cp37m-manylinux1_x86_64.whl (13.6 MB)\n",
            "\u001b[K     |████████████████████████████████| 13.6 MB 17.5 MB/s \n",
            "\u001b[?25hInstalling collected packages: pycld3\n",
            "Successfully installed pycld3-0.22\n"
          ]
        }
      ]
    },
    {
      "cell_type": "code",
      "source": [
        "import cld3"
      ],
      "metadata": {
        "id": "oQ-9VG-_IQqO"
      },
      "execution_count": null,
      "outputs": []
    },
    {
      "cell_type": "code",
      "source": [
        "cld3.get_language(\"Si je crois en quelque chose, je le vends.\")"
      ],
      "metadata": {
        "colab": {
          "base_uri": "https://localhost:8080/"
        },
        "id": "L3VUTe78Iqdf",
        "outputId": "432b9374-46dd-408f-fdee-a3455f7a2720"
      },
      "execution_count": null,
      "outputs": [
        {
          "output_type": "execute_result",
          "data": {
            "text/plain": [
              "LanguagePrediction(language='fr', probability=0.999969482421875, is_reliable=True, proportion=1.0)"
            ]
          },
          "metadata": {},
          "execution_count": 18
        }
      ]
    },
    {
      "cell_type": "code",
      "source": [
        "for lang in cld3.get_frequent_languages (\"If I believe in something, I sell it. إذا كنت أؤمن بشيء ما ، فأنا أبيعه.\",num_langs=3):\n",
        "    print(lang)"
      ],
      "metadata": {
        "colab": {
          "base_uri": "https://localhost:8080/"
        },
        "id": "YCOHUJlaIqV1",
        "outputId": "da34165b-cefd-48a4-f01c-ed621d50bf9e"
      },
      "execution_count": null,
      "outputs": [
        {
          "output_type": "stream",
          "name": "stdout",
          "text": [
            "LanguagePrediction(language='ar', probability=0.9999980926513672, is_reliable=True, proportion=0.6105263233184814)\n",
            "LanguagePrediction(language='en', probability=0.9904537796974182, is_reliable=True, proportion=0.38947367668151855)\n"
          ]
        }
      ]
    }
  ]
}