{
  "nbformat": 4,
  "nbformat_minor": 0,
  "metadata": {
    "colab": {
      "provenance": [],
      "authorship_tag": "ABX9TyOEMQkD83rN7TNIyJVDRGVn",
      "include_colab_link": true
    },
    "kernelspec": {
      "name": "python3",
      "display_name": "Python 3"
    },
    "language_info": {
      "name": "python"
    }
  },
  "cells": [
    {
      "cell_type": "markdown",
      "metadata": {
        "id": "view-in-github",
        "colab_type": "text"
      },
      "source": [
        "<a href=\"https://colab.research.google.com/github/ibtihelgharsalah/Language-Detection-using-pycld3/blob/main/langdetect.ipynb\" target=\"_parent\"><img src=\"https://colab.research.google.com/assets/colab-badge.svg\" alt=\"Open In Colab\"/></a>"
      ]
    },
    {
      "cell_type": "code",
      "source": [
        "pip install langdetect"
      ],
      "metadata": {
        "colab": {
          "base_uri": "https://localhost:8080/"
        },
        "id": "TrSQjIJBAe3a",
        "outputId": "25c6d98d-19ca-41ad-c97c-92843b7933ee"
      },
      "execution_count": null,
      "outputs": [
        {
          "output_type": "stream",
          "name": "stdout",
          "text": [
            "Looking in indexes: https://pypi.org/simple, https://us-python.pkg.dev/colab-wheels/public/simple/\n",
            "Collecting langdetect\n",
            "  Downloading langdetect-1.0.9.tar.gz (981 kB)\n",
            "\u001b[K     |████████████████████████████████| 981 kB 4.2 MB/s \n",
            "\u001b[?25hRequirement already satisfied: six in /usr/local/lib/python3.7/dist-packages (from langdetect) (1.15.0)\n",
            "Building wheels for collected packages: langdetect\n",
            "  Building wheel for langdetect (setup.py) ... \u001b[?25l\u001b[?25hdone\n",
            "  Created wheel for langdetect: filename=langdetect-1.0.9-py3-none-any.whl size=993242 sha256=1c2b3483a8983bf5f938486f697a8713e611a20221c1c3eac798c9cd922a3e0c\n",
            "  Stored in directory: /root/.cache/pip/wheels/c5/96/8a/f90c59ed25d75e50a8c10a1b1c2d4c402e4dacfa87f3aff36a\n",
            "Successfully built langdetect\n",
            "Installing collected packages: langdetect\n",
            "Successfully installed langdetect-1.0.9\n"
          ]
        }
      ]
    },
    {
      "cell_type": "code",
      "execution_count": null,
      "metadata": {
        "id": "El4hvyT_AO_D"
      },
      "outputs": [],
      "source": [
        "from langdetect import detect"
      ]
    },
    {
      "cell_type": "code",
      "source": [
        "all_languages_codes = {\n",
        "  \t'ar': 'Arabic',\n",
        "  \t'en': 'English',\n",
        "  \t'eng': 'English',\n",
        "  \t'fr': 'French',\n",
        "  \t'fre/fra*': 'French'\n",
        "  }"
      ],
      "metadata": {
        "id": "J2sILkIM-EWM"
      },
      "execution_count": null,
      "outputs": []
    },
    {
      "cell_type": "code",
      "source": [
        "input_sentences = [\"If I believe in something, I sell it.\",\n",
        "\t\"Si je crois en quelque chose, je le vends.\",\n",
        "\t\"إذا كنت أؤمن بشيء ما ، فأنا أبيعه\"]"
      ],
      "metadata": {
        "id": "0zGoNsCC9RUl"
      },
      "execution_count": null,
      "outputs": []
    },
    {
      "cell_type": "code",
      "source": [
        "lemmatizer_names = [\"Language Code\", \"Input Sentence\"]\n",
        "format_text = '{:24}' * (len(lemmatizer_names) + 1)"
      ],
      "metadata": {
        "id": "7ugfP-oF9Ug0"
      },
      "execution_count": null,
      "outputs": []
    },
    {
      "cell_type": "code",
      "source": [
        "print ('\\n', format_text.format(\"Language Name\", *lemmatizer_names),'\\n','='*120)\n",
        "for data in input_sentences:\n",
        "    language_code = detect(data)    \n",
        "    sentence = [all_languages_codes.get(language_code), language_code, data]\n",
        "    print (format_text.format(*sentence))"
      ],
      "metadata": {
        "colab": {
          "base_uri": "https://localhost:8080/"
        },
        "id": "Qf1-vkDk9UWs",
        "outputId": "2b1f9583-2fe7-41f8-f297-e99c5f2d8ed9"
      },
      "execution_count": null,
      "outputs": [
        {
          "output_type": "stream",
          "name": "stdout",
          "text": [
            "\n",
            " Language Name           Language Code           Input Sentence           \n",
            " ========================================================================================================================\n",
            "English                 en                      If I believe in something, I sell it.\n",
            "French                  fr                      Si je crois en quelque chose, je le vends.\n",
            "Arabic                  ar                      إذا كنت أؤمن بشيء ما ، فأنا أبيعه\n"
          ]
        }
      ]
    },
    {
      "cell_type": "code",
      "source": [
        "detect(\"this is english\")"
      ],
      "metadata": {
        "colab": {
          "base_uri": "https://localhost:8080/",
          "height": 35
        },
        "id": "kMKVF1Sn5xgi",
        "outputId": "86146b78-c509-4051-8844-ec442d8c3772"
      },
      "execution_count": null,
      "outputs": [
        {
          "output_type": "execute_result",
          "data": {
            "text/plain": [
              "'en'"
            ],
            "application/vnd.google.colaboratory.intrinsic+json": {
              "type": "string"
            }
          },
          "metadata": {},
          "execution_count": 21
        }
      ]
    },
    {
      "cell_type": "code",
      "source": [
        "detect(\"c'est du français\")"
      ],
      "metadata": {
        "colab": {
          "base_uri": "https://localhost:8080/",
          "height": 35
        },
        "id": "j7o94uZJA4Z3",
        "outputId": "f0603381-595b-4e9b-a6ec-23f9ebb1c7b1"
      },
      "execution_count": null,
      "outputs": [
        {
          "output_type": "execute_result",
          "data": {
            "text/plain": [
              "'fr'"
            ],
            "application/vnd.google.colaboratory.intrinsic+json": {
              "type": "string"
            }
          },
          "metadata": {},
          "execution_count": 6
        }
      ]
    },
    {
      "cell_type": "code",
      "source": [
        "from langdetect import detect_langs"
      ],
      "metadata": {
        "id": "z-e8wdVqBQX5"
      },
      "execution_count": null,
      "outputs": []
    },
    {
      "cell_type": "code",
      "source": [
        "detect_langs(\"this is français\")"
      ],
      "metadata": {
        "colab": {
          "base_uri": "https://localhost:8080/"
        },
        "id": "5qhNZ70KBTVx",
        "outputId": "d65d67fa-4baf-4450-8aa8-4d3c0a9f9296"
      },
      "execution_count": null,
      "outputs": [
        {
          "output_type": "execute_result",
          "data": {
            "text/plain": [
              "[fr:0.9999967864801622]"
            ]
          },
          "metadata": {},
          "execution_count": 8
        }
      ]
    }
  ]
}