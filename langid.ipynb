{
  "nbformat": 4,
  "nbformat_minor": 0,
  "metadata": {
    "colab": {
      "provenance": [],
      "authorship_tag": "ABX9TyMgqqrugyoRQxAkSRc84kkn",
      "include_colab_link": true
    },
    "kernelspec": {
      "name": "python3",
      "display_name": "Python 3"
    },
    "language_info": {
      "name": "python"
    }
  },
  "cells": [
    {
      "cell_type": "markdown",
      "metadata": {
        "id": "view-in-github",
        "colab_type": "text"
      },
      "source": [
        "<a href=\"https://colab.research.google.com/github/ibtihelgharsalah/Language-Detection-using-pycld3/blob/main/langid.ipynb\" target=\"_parent\"><img src=\"https://colab.research.google.com/assets/colab-badge.svg\" alt=\"Open In Colab\"/></a>"
      ]
    },
    {
      "cell_type": "code",
      "execution_count": null,
      "metadata": {
        "colab": {
          "base_uri": "https://localhost:8080/"
        },
        "id": "m8jdFWJQOCvU",
        "outputId": "9b0e5a85-7418-41f5-d915-fc18a8c3a571"
      },
      "outputs": [
        {
          "output_type": "stream",
          "name": "stdout",
          "text": [
            "Looking in indexes: https://pypi.org/simple, https://us-python.pkg.dev/colab-wheels/public/simple/\n",
            "Collecting langid\n",
            "  Downloading langid-1.1.6.tar.gz (1.9 MB)\n",
            "\u001b[K     |████████████████████████████████| 1.9 MB 5.2 MB/s \n",
            "\u001b[?25hRequirement already satisfied: numpy in /usr/local/lib/python3.7/dist-packages (from langid) (1.21.6)\n",
            "Building wheels for collected packages: langid\n",
            "  Building wheel for langid (setup.py) ... \u001b[?25l\u001b[?25hdone\n",
            "  Created wheel for langid: filename=langid-1.1.6-py3-none-any.whl size=1941188 sha256=b4fe7d1c7abf68a7c6617311506ee5156548efd74a2b89e79b7f585fe53be08f\n",
            "  Stored in directory: /root/.cache/pip/wheels/2b/bb/7f/11e4db39477278161e882eadc46fb558949a28b13470fc74b8\n",
            "Successfully built langid\n",
            "Installing collected packages: langid\n",
            "Successfully installed langid-1.1.6\n"
          ]
        }
      ],
      "source": [
        "pip install langid"
      ]
    },
    {
      "cell_type": "code",
      "source": [
        "import langid"
      ],
      "metadata": {
        "id": "uMXqMktiOIi7"
      },
      "execution_count": null,
      "outputs": []
    },
    {
      "cell_type": "code",
      "source": [
        "L = [\"If I believe in something, I sell it.\",\n",
        "    \"Si je crois en quelque chose, je le vends.\",\n",
        "    \"إذا كنت أؤمن بشيء ما ، فأنا أبيعه\"\n",
        "    ]\n",
        "  \n",
        "for i in L:\n",
        "    print(langid.classify(i))"
      ],
      "metadata": {
        "colab": {
          "base_uri": "https://localhost:8080/"
        },
        "id": "S-2SIdFTOIf6",
        "outputId": "5a2b1eb9-3b6a-4619-e5db-417112315773"
      },
      "execution_count": null,
      "outputs": [
        {
          "output_type": "stream",
          "name": "stdout",
          "text": [
            "('en', -45.19654083251953)\n",
            "('fr', -154.59932327270508)\n",
            "('ar', -296.0550925731659)\n"
          ]
        }
      ]
    }
  ]
}