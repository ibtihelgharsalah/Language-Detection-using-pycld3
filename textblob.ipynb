{
  "nbformat": 4,
  "nbformat_minor": 0,
  "metadata": {
    "colab": {
      "provenance": [],
      "authorship_tag": "ABX9TyNGW1eXUYknX9eLZ72I6/NR",
      "include_colab_link": true
    },
    "kernelspec": {
      "name": "python3",
      "display_name": "Python 3"
    },
    "language_info": {
      "name": "python"
    }
  },
  "cells": [
    {
      "cell_type": "markdown",
      "metadata": {
        "id": "view-in-github",
        "colab_type": "text"
      },
      "source": [
        "<a href=\"https://colab.research.google.com/github/ibtihelgharsalah/Language-Detection-using-pycld3/blob/main/textblob.ipynb\" target=\"_parent\"><img src=\"https://colab.research.google.com/assets/colab-badge.svg\" alt=\"Open In Colab\"/></a>"
      ]
    },
    {
      "cell_type": "code",
      "source": [
        "pip install textblob"
      ],
      "metadata": {
        "id": "WkG801nmLj0l",
        "colab": {
          "base_uri": "https://localhost:8080/"
        },
        "outputId": "9a7dd338-784e-4415-e5bd-886ec1229038"
      },
      "execution_count": null,
      "outputs": [
        {
          "output_type": "stream",
          "name": "stdout",
          "text": [
            "Looking in indexes: https://pypi.org/simple, https://us-python.pkg.dev/colab-wheels/public/simple/\n",
            "Requirement already satisfied: textblob in /usr/local/lib/python3.7/dist-packages (0.15.3)\n",
            "Requirement already satisfied: nltk>=3.1 in /usr/local/lib/python3.7/dist-packages (from textblob) (3.2.5)\n",
            "Requirement already satisfied: six in /usr/local/lib/python3.7/dist-packages (from nltk>=3.1->textblob) (1.15.0)\n"
          ]
        }
      ]
    },
    {
      "cell_type": "code",
      "source": [
        "from textblob import TextBlob\n",
        "import nltk\n",
        "nltk.download('punkt')"
      ],
      "metadata": {
        "id": "94YCYH1LLjxF",
        "colab": {
          "base_uri": "https://localhost:8080/"
        },
        "outputId": "586ec731-fbae-47ef-d477-eb460bb721ed"
      },
      "execution_count": null,
      "outputs": [
        {
          "output_type": "stream",
          "name": "stdout",
          "text": [
            "[nltk_data] Downloading package punkt to /root/nltk_data...\n",
            "[nltk_data]   Package punkt is already up-to-date!\n"
          ]
        },
        {
          "output_type": "execute_result",
          "data": {
            "text/plain": [
              "True"
            ]
          },
          "metadata": {},
          "execution_count": 5
        }
      ]
    },
    {
      "cell_type": "code",
      "source": [
        "L = [\"If I believe in something, I sell it.\",\n",
        "    \"Si je crois en quelque chose, je le vends.\",\n",
        "    \"إذا كنت أؤمن بشيء ما ، فأنا أبيعه\"\n",
        "    ]\n",
        "  \n",
        "for i in L:\n",
        "    lang = TextBlob(i) \n",
        "    print(lang.detect_language)"
      ],
      "metadata": {
        "id": "uHyeAVp_LjtW",
        "colab": {
          "base_uri": "https://localhost:8080/"
        },
        "outputId": "27108ff9-392d-477b-c7dc-de119eda9e73"
      },
      "execution_count": null,
      "outputs": [
        {
          "output_type": "stream",
          "name": "stdout",
          "text": [
            "<bound method BaseBlob.detect_language of TextBlob(\"If I believe in something, I sell it.\")>\n",
            "<bound method BaseBlob.detect_language of TextBlob(\"Si je crois en quelque chose, je le vends.\")>\n",
            "<bound method BaseBlob.detect_language of TextBlob(\"إذا كنت أؤمن بشيء ما ، فأنا أبيعه\")>\n"
          ]
        }
      ]
    }
  ]
}